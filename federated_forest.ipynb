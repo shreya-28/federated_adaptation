{
 "cells": [
  {
   "cell_type": "code",
   "execution_count": 1,
   "metadata": {},
   "outputs": [],
   "source": [
    "#loading the libraries\n",
    "import numpy as np\n",
    "from sklearn.model_selection import train_test_split\n",
    "from sklearn.ensemble import RandomForestClassifier\n",
    "from sklearn import tree\n",
    "import tqdm"
   ]
  },
  {
   "cell_type": "code",
   "execution_count": 2,
   "metadata": {},
   "outputs": [],
   "source": [
    "# loading the data\n",
    "x_train = np.load('./data_federated/train_x.npy')\n",
    "y_train = np.load('./data_federated/train_y.npy')\n",
    "x_test = np.load('./data_federated/test_x.npy')\n",
    "y_test = np.load('./data_federated/test_y.npy')"
   ]
  },
  {
   "cell_type": "code",
   "execution_count": 3,
   "metadata": {},
   "outputs": [
    {
     "name": "stdout",
     "output_type": "stream",
     "text": [
      "(4474, 1472)\n",
      "(4474, 2)\n",
      "(3080, 1472)\n",
      "(3080, 2)\n"
     ]
    }
   ],
   "source": [
    "print(x_train.shape)\n",
    "print(y_train.shape)\n",
    "print(x_test.shape)\n",
    "print(y_test.shape)"
   ]
  },
  {
   "cell_type": "markdown",
   "metadata": {},
   "source": [
    "#### Baseline model for comparision"
   ]
  },
  {
   "cell_type": "code",
   "execution_count": 4,
   "metadata": {},
   "outputs": [],
   "source": [
    "clf = RandomForestClassifier(max_depth=5, random_state=0)\n",
    "clf = clf.fit(x_train, y_train)"
   ]
  },
  {
   "cell_type": "code",
   "execution_count": 5,
   "metadata": {},
   "outputs": [
    {
     "name": "stdout",
     "output_type": "stream",
     "text": [
      "Accuracy on test is: 0.8990259740259741\n"
     ]
    }
   ],
   "source": [
    "score = clf.score(x_test,y_test )\n",
    "print(\"Accuracy on test is:\", score)"
   ]
  },
  {
   "cell_type": "markdown",
   "metadata": {},
   "source": [
    "#### Federated Forest model (A version of the given implementation)"
   ]
  },
  {
   "cell_type": "code",
   "execution_count": 6,
   "metadata": {},
   "outputs": [],
   "source": [
    "class Client:\n",
    "    def __init__(self,name):\n",
    "        self.name = name\n",
    "        self.models = []\n",
    "    \n",
    "    '''creating a local model'''\n",
    "    def initialize(self):\n",
    "        self.clf = tree.DecisionTreeClassifier(max_depth=1) # maximum depth can be 2 at any decision time\n",
    "    \n",
    "    '''Initializing the data with which the local model will be trained'''\n",
    "    def initialize_data(self,X,y,f):\n",
    "        self.X = X\n",
    "        self.y = y\n",
    "        self.features = f\n",
    "    \n",
    "    '''Fitting the model on the data and returning the gini score which will be used for comparision'''\n",
    "    def split(self):\n",
    "        self.clf = self.clf.fit(self.X,self.y)\n",
    "        #print(self.clf.predict(np.array([self.X[0]])))\n",
    "        feature = np.argmax(self.clf.feature_importances_)\n",
    "        gini = self.clf.tree_.impurity[0]\n",
    "        \n",
    "        return gini,feature,self.clf\n",
    "    \n",
    "    '''Saving the model locally if the gini score is good'''\n",
    "    def save(self):\n",
    "        self.models.append((self.clf,self.features))\n",
    "    \n",
    "    '''Predicting the accuracy using the local saved models'''\n",
    "    def predict_values(self,X,y):\n",
    "        scores = []\n",
    "        for (model, features) in self.models:\n",
    "            inp = X[:,features]\n",
    "            score = model.score(inp,y)\n",
    "            scores.append(score)\n",
    "            \n",
    "        return scores"
   ]
  },
  {
   "cell_type": "code",
   "execution_count": 7,
   "metadata": {},
   "outputs": [],
   "source": [
    "class Master:\n",
    "    def __init__(self,datax,datay,clients):\n",
    "        self.X = datax \n",
    "        self.y = datay\n",
    "        self.no_clients = clients\n",
    "        #self.models = []\n",
    "        \n",
    "        self.clients = []\n",
    "        for i in range(self.no_clients):\n",
    "            self.clients.append(Client(str(i)))        \n",
    "    \n",
    "    '''Splitting the data into parts for different clients'''\n",
    "    def divide(self):\n",
    "        ids = [i for i in range(len(self.X))]\n",
    "        np.random.shuffle(ids)\n",
    "        l = ids[:1000] # choosing random ids for data\n",
    "        datax = self.X[l]\n",
    "        datay = self.y[l]\n",
    "        \n",
    "        all_data = []\n",
    "        for i in range(self.no_clients):\n",
    "            feature_ids = [i for i in range(self.X.shape[1])]\n",
    "            np.random.shuffle(feature_ids)\n",
    "            m = feature_ids[:500] # choosing random ids for features\n",
    "            client_datax = datax[:,m]\n",
    "            all_data.append((client_datax,datay,m))\n",
    "        \n",
    "        return all_data\n",
    "    \n",
    "    '''return the index where the score is maximum'''\n",
    "    def decide(self,scores):\n",
    "        return np.argmax(scores)\n",
    "    \n",
    "    '''Created the defined number of trees in the clients'''\n",
    "    def create_trees(self,num_trees):\n",
    "        for j in tqdm.tqdm (range(num_trees), desc=\"Preparing trees...\"):\n",
    "            data = self.divide()\n",
    "            \n",
    "            scores,clfs,feature_list = [],[],[]\n",
    "            for i in range(self.no_clients):\n",
    "                self.clients[i].initialize()\n",
    "                self.clients[i].initialize_data(data[i][0],data[i][1],data[i][2])\n",
    "                gini,feature,clf = self.clients[i].split()\n",
    "                scores.append(gini)\n",
    "                clfs.append(clf)\n",
    "                feature_list.append(data[i][2])\n",
    "            \n",
    "            best = self.decide(scores)\n",
    "            self.clients[best].save()\n",
    "    \n",
    "    '''Uses the client models to predict the accuracy of the resulting model'''\n",
    "    def predict_and_score(self,X,y):\n",
    "        count = 0\n",
    "        predictions = []\n",
    "        for i in range(self.no_clients):\n",
    "            predictions.extend(self.clients[i].predict_values(X,y))\n",
    "        pred = np.mean(predictions)\n",
    "        \n",
    "        print(\"The Accuracy is\",pred)\n",
    "            "
   ]
  },
  {
   "cell_type": "code",
   "execution_count": 8,
   "metadata": {},
   "outputs": [],
   "source": [
    "a = Master(x_train,y_train,2)"
   ]
  },
  {
   "cell_type": "code",
   "execution_count": 9,
   "metadata": {},
   "outputs": [
    {
     "name": "stderr",
     "output_type": "stream",
     "text": [
      "Preparing trees...: 100%|██████████| 100/100 [00:10<00:00,  9.21it/s]\n"
     ]
    }
   ],
   "source": [
    "a.create_trees(100)"
   ]
  },
  {
   "cell_type": "code",
   "execution_count": 10,
   "metadata": {
    "scrolled": false
   },
   "outputs": [
    {
     "name": "stdout",
     "output_type": "stream",
     "text": [
      "The Accuracy is 0.8902240259740261\n"
     ]
    }
   ],
   "source": [
    "a.predict_and_score(x_test,y_test)"
   ]
  },
  {
   "cell_type": "code",
   "execution_count": null,
   "metadata": {},
   "outputs": [],
   "source": []
  }
 ],
 "metadata": {
  "kernelspec": {
   "display_name": "Python 3",
   "language": "python",
   "name": "python3"
  },
  "language_info": {
   "codemirror_mode": {
    "name": "ipython",
    "version": 3
   },
   "file_extension": ".py",
   "mimetype": "text/x-python",
   "name": "python",
   "nbconvert_exporter": "python",
   "pygments_lexer": "ipython3",
   "version": "3.8.2"
  }
 },
 "nbformat": 4,
 "nbformat_minor": 2
}
